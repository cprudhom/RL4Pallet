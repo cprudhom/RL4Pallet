{
 "cells": [
  {
   "cell_type": "markdown",
   "metadata": {},
   "source": [
    "# Description du problème\n",
    "Un ensemble de colis sont à placer dans un carton.\n",
    "\n",
    "Tous les colis sont identiques: un rectangle de dimension (l x L x h): 1 x 2 x 1.\n",
    "L'orientation d'un colis se fait par rapport à un cube de référence.\n",
    "Ce colis dispose de deux orientations possibles:\n",
    "- 1 : (l x L x h): 1 x 2 x 1, le cube de référence est en (0,0,0),\n",
    "- 2: (l x L x h): 2 x 1 x 1, le cube de référence est en (0,0,0).\n",
    "\n",
    "Le carton est de dimension (l x L x h): 3 x 4 x 4.\n",
    "L'objectif est de placer les 24 colis dans le carton.\n",
    "\n",
    "## Observations\n",
    "**Type**: Box(4)\n",
    "\n",
    "| Num | Observation          | Min                       | Max                       |\n",
    "|-----|----------------------|---------------------------|---------------------------|\n",
    "| 0   | Carton vue du dessus | [[.0,..,.0]...[.0,..,.0]] | [[4.,..,4.]...[4.,..,4.]] |\n",
    "| 1   | Type de colis        | 1                         | 1                         |                       1                               1\n",
    "\n",
    "#### Note:\n",
    "La valeur d'une cellule du carton vue de dessus indique le point le plus haut sur lequel peut reposer un colis.\n",
    "Chaque colis dispose d'un cube de référence, permettant de déterminer ses dimensions relatives en fonction de l'orientation.\n",
    "\n",
    "## Actions:\n",
    "**Type**: Box(3)\n",
    "\n",
    "| Num | Action                                                                                          |\n",
    "|-----|-------------------------------------------------------------------------------------------------|\n",
    "| 0   | Position sur l'axe des abscisses du cube de référence du colis dans le carton (vue du dessus). |\n",
    "| 1   | Position sur l'axe des ordonnées du cube de référence du colis dans le carton (vue du dessus). |\n",
    "| 2   | Orientation du colis, 0 ou 1                                                                    |\n",
    "\n",
    "## Récompense:\n",
    "La récompense est de 1 à chaque étape, sauf en cas d'échec.\n",
    "\n",
    "##    Etat de départ:\n",
    "Le carton vue de dessus est valorisé à [[0.0..0.0]..[0.0..0.0]]\n",
    "\n",
    "## Conditionns d'arrêt:\n",
    "Un colis n'est pas strictement inclus dans le carton\n",
    "Lorsque le carton est plein."
   ]
  },
  {
   "cell_type": "markdown",
   "metadata": {},
   "source": [
    "# Le programme\n",
    "\n",
    "## Le code commenté\n",
    "Premièrement, gérer les imports"
   ]
  },
  {
   "cell_type": "code",
   "execution_count": null,
   "metadata": {},
   "outputs": [],
   "source": [
    "import gym\n",
    "import matplotlib.pyplot as plt\n",
    "%matplotlib inline"
   ]
  },
  {
   "cell_type": "markdown",
   "metadata": {},
   "source": [
    "Puis, charger l'environnment"
   ]
  },
  {
   "cell_type": "code",
   "execution_count": null,
   "metadata": {},
   "outputs": [],
   "source": [
    "env = gym.make('gym_pallet:pallet-v0')"
   ]
  },
  {
   "cell_type": "markdown",
   "metadata": {},
   "source": [
    "Ensuite, lancer 200 séquences de prises de décision aléatoire"
   ]
  },
  {
   "cell_type": "code",
   "execution_count": null,
   "metadata": {},
   "outputs": [],
   "source": [
    "for i_episode in range(20): # 20 iterations pour apprendre <-- A MODIFIER\n",
    "    observation = env.reset() # partir d'un environnement réinitialiser\n",
    "    done = False\n",
    "    t = 0 # pour mémoriser la \"qualité\" de l'enchainement d'actions\n",
    "    while not done: # tant qu'on peut ajouter des colis\n",
    "        t += 1 \n",
    "        env.render() # mettre à jour la visualisation\n",
    "        action = env.action_space.sample() # choisir une action au hasard <-- A MODIFIER\n",
    "        observation, reward, done, info = env.step(action) # récupération du résultat de l'application de l'action\n",
    "        # apprendre de l'action <-- A MODIFIER\n",
    "        if done: # si le jeu est terminé\n",
    "            env.render() # mettre à jour la visualisation\n",
    "            print(\"Episode finished after {} timesteps\".format(t + 1))\n",
    "            break\n",
    "env.close()"
   ]
  }
 ],
 "metadata": {
  "kernelspec": {
   "display_name": "Python 3",
   "language": "python",
   "name": "python3"
  },
  "language_info": {
   "codemirror_mode": {
    "name": "ipython",
    "version": 3
   },
   "file_extension": ".py",
   "mimetype": "text/x-python",
   "name": "python",
   "nbconvert_exporter": "python",
   "pygments_lexer": "ipython3",
   "version": "3.7.1"
  }
 },
 "nbformat": 4,
 "nbformat_minor": 2
}
