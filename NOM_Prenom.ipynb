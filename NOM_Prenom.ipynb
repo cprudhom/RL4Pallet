{
 "cells": [
  {
   "cell_type": "markdown",
   "metadata": {},
   "source": [
    "### Le code commenté\n",
    "Premièrement, gérer les imports"
   ]
  },
  {
   "cell_type": "code",
   "execution_count": null,
   "metadata": {},
   "outputs": [],
   "source": [
    "import gym\n",
    "import matplotlib.pyplot as plt\n",
    "%matplotlib inline"
   ]
  },
  {
   "cell_type": "markdown",
   "metadata": {},
   "source": [
    "Puis, charger l'environnment"
   ]
  },
  {
   "cell_type": "code",
   "execution_count": null,
   "metadata": {},
   "outputs": [],
   "source": [
    "env = gym.make('gym_pallet:pallet-v0')"
   ]
  },
  {
   "cell_type": "markdown",
   "metadata": {},
   "source": [
    "Ensuite, lancer 200 séquences de prises de décision aléatoire"
   ]
  },
  {
   "cell_type": "code",
   "execution_count": null,
   "metadata": {},
   "outputs": [],
   "source": [
    "for i_episode in range(20): # 20 iterations pour apprendre <-- A MODIFIER\n",
    "    observation = env.reset() # partir d'un environnement réinitialiser\n",
    "    done = False\n",
    "    t = 0 # pour mémoriser la \"qualité\" de l'enchainement d'actions\n",
    "    while not done: # tant qu'on peut ajouter des colis\n",
    "        t += 1 \n",
    "        # env.render() # FIXME mettre à jour la visualisation\n",
    "        action = env.action_space.sample() # choisir une action au hasard <-- A MODIFIER\n",
    "        observation, reward, done, info = env.step(action) # récupération du résultat de l'application de l'action\n",
    "        # apprendre de l'action <-- A MODIFIER\n",
    "        if done: # si le jeu est terminé\n",
    "            # env.render() # FIXME mettre à jour la visualisation\n",
    "            print(\"Episode finished after {} timesteps\".format(t + 1))\n",
    "            break\n",
    "env.close()"
   ]
  },
 ],
 "metadata": {
  "kernelspec": {
   "display_name": "Python 3",
   "language": "python",
   "name": "python3"
  },
  "language_info": {
   "codemirror_mode": {
    "name": "ipython",
    "version": 3
   },
   "file_extension": ".py",
   "mimetype": "text/x-python",
   "name": "python",
   "nbconvert_exporter": "python",
   "pygments_lexer": "ipython3",
   "version": "3.7.1"
  }
 },
 "nbformat": 4,
 "nbformat_minor": 2
}
